{
 "cells": [
  {
   "cell_type": "code",
   "execution_count": 1,
   "metadata": {},
   "outputs": [
    {
     "data": {
      "application/vnd.jupyter.widget-view+json": {
       "model_id": "d3058e7df04b47b6ba595d06bf956030",
       "version_major": 2,
       "version_minor": 0
      },
      "text/plain": [
       "Dropdown(description='Game:', options=(('AlphaZero-Stockfish 8 1-0 (g 1)', 0), ('AlphaZero-Stockfish 8 1-0 (g …"
      ]
     },
     "metadata": {},
     "output_type": "display_data"
    },
    {
     "data": {
      "application/vnd.jupyter.widget-view+json": {
       "model_id": "d950baeb735c47e68eaa6ee306a12ddf",
       "version_major": 2,
       "version_minor": 0
      },
      "text/plain": [
       "Output()"
      ]
     },
     "metadata": {},
     "output_type": "display_data"
    },
    {
     "data": {
      "application/vnd.jupyter.widget-view+json": {
       "model_id": "aba8886c0f5a40da8bfbf58a27f2e2c9",
       "version_major": 2,
       "version_minor": 0
      },
      "text/plain": [
       "Output()"
      ]
     },
     "metadata": {},
     "output_type": "display_data"
    }
   ],
   "source": [
    "import chess.pgn\n",
    "import ipywidgets as widgets\n",
    "from IPython.display import clear_output\n",
    "from ipywidgets import Button, HBox, VBox\n",
    "from IPython.display import SVG, display\n",
    "import chess.svg \n",
    "\n",
    "BOARD_SIZE = 400\n",
    "\n",
    "class JupyterChessPGN:\n",
    "    \n",
    "    board = None\n",
    "    nm = 0\n",
    "    \n",
    "    moves = []\n",
    "    pos = None \n",
    "    out = None # widgets.Output(layout={'border': '1px solid black'})\n",
    "    out_position = None # widgets.Output(layout={'border': '1px solid red'})\n",
    "    pgnfile = None\n",
    "    game = None\n",
    "    wgames = None\n",
    "      \n",
    "    def __init__(self, pgnfile):\n",
    "        self.pgnfile = pgnfile\n",
    "    \n",
    "        \n",
    "    def read_ith_game(self, i):\n",
    "        pgn = open(self.pgnfile)\n",
    "        game_number = 0\n",
    "        while game_number <= i:\n",
    "            ga = chess.pgn.read_game(pgn)\n",
    "            if ga is None:\n",
    "                return None\n",
    "            else:\n",
    "                if (game_number == i):\n",
    "                    return ga\n",
    "            game_number = game_number + 1\n",
    "        return None\n",
    "    \n",
    "    def set_ith_game(self, i):\n",
    "        self.game = self.read_ith_game(i)\n",
    "        \n",
    "    def undo_button(self, b):\n",
    "        \n",
    "        if (self.nm is not 0):\n",
    "            self.nm = self.nm - 1\n",
    "            self.board.pop()\n",
    "\n",
    "        with self.out_position:\n",
    "            clear_output(wait=True) \n",
    "            display(SVG(chess.svg.board(board=self.board, size=BOARD_SIZE)))\n",
    "    \n",
    "    \n",
    "\n",
    "    def redo_button(self, b):     \n",
    "\n",
    "        if (self.nm < len(self.moves)):\n",
    "            m = self.moves[self.nm]\n",
    "            self.board.push(m)\n",
    "\n",
    "            with self.out_position:\n",
    "                clear_output(wait=True) \n",
    "                display(SVG(chess.svg.board(board=self.board, size=BOARD_SIZE)))\n",
    "            self.nm = self.nm + 1\n",
    "        else:\n",
    "            return # print(\"end of the game\")\n",
    "    \n",
    "    def showUI(self):    \n",
    "        clear_output()\n",
    "        self.board = chess.Board()\n",
    "        self.moves = list(self.game.mainline_moves())\n",
    "        self.nm = 0\n",
    "        if (self.out_position is not None):\n",
    "            self.out_position.clear_output()\n",
    "        display(self.wgames)\n",
    "\n",
    "        self.out_position = widgets.Output() # layout={'border': 'px solid red'})\n",
    "        display(self.out_position)\n",
    "        with self.out_position:\n",
    "            display(SVG(chess.svg.board(board=self.board, size=BOARD_SIZE)))\n",
    "        self.out = widgets.Output()\n",
    "        with self.out:\n",
    "            clear_output() \n",
    "            self.undo_b = widgets.Button(description=\"<\")\n",
    "            self.redo_b = widgets.Button(description=\">\")\n",
    "            self.undo_b.on_click(self.undo_button)\n",
    "            self.redo_b.on_click(self.redo_button)\n",
    "            display(HBox([self.undo_b, self.redo_b]))\n",
    "\n",
    "        display(self.out)\n",
    "\n",
    "\n",
    "    def mk_games_information(self, pgnfile):\n",
    "        games_information = [] \n",
    "        pgn = open(self.pgnfile)\n",
    "        game_number = 1\n",
    "        while True:\n",
    "            game = chess.pgn.read_game(pgn)\n",
    "            if game is None:\n",
    "                break\n",
    "            else:\n",
    "                games_information.append((game.headers.get(\"White\") + \"-\" + game.headers.get(\"Black\") + \" \" + game.headers.get(\"Result\") + \" (g \" + str(game_number) + \")\", game_number - 1))\n",
    "                game_number = game_number + 1\n",
    "        return games_information\n",
    "    \n",
    "    def on_change(self, change):\n",
    "        ngame = change['new']\n",
    "        print(\"NGAME\", ngame)\n",
    "        self.set_ith_game(int(ngame))\n",
    "        self.showUI()\n",
    "    \n",
    "    def make_gamelist_menu(self):\n",
    "        self.wgames = widgets.Dropdown(\n",
    "            options=self.mk_games_information(self.pgnfile),\n",
    "            description='Game:',\n",
    "            disabled=False    \n",
    "        )\n",
    "        self.wgames.observe(self.on_change, names='value')\n",
    "        display(self.wgames)\n",
    "        \n",
    "\n",
    "\n",
    "pgnfile=\"alphazero-all.pgn\"\n",
    "jc = JupyterChessPGN(pgnfile) \n",
    "jc.make_gamelist_menu()\n",
    "# first game of PGN file to init \n",
    "jc.set_ith_game(0)\n",
    "jc.showUI()\n"
   ]
  },
  {
   "cell_type": "code",
   "execution_count": null,
   "metadata": {},
   "outputs": [],
   "source": []
  }
 ],
 "metadata": {
  "kernelspec": {
   "display_name": "Python 3",
   "language": "python",
   "name": "python3"
  },
  "language_info": {
   "codemirror_mode": {
    "name": "ipython",
    "version": 3
   },
   "file_extension": ".py",
   "mimetype": "text/x-python",
   "name": "python",
   "nbconvert_exporter": "python",
   "pygments_lexer": "ipython3",
   "version": "3.7.3"
  }
 },
 "nbformat": 4,
 "nbformat_minor": 2
}
